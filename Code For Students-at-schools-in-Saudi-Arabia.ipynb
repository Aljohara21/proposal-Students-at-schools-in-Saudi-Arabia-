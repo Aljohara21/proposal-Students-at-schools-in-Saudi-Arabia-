{
 "cells": [
  {
   "cell_type": "code",
   "execution_count": 9,
   "id": "89609cc3",
   "metadata": {},
   "outputs": [],
   "source": [
    "#import libraries I will use "
   ]
  },
  {
   "cell_type": "code",
   "execution_count": 10,
   "id": "21e03ce8",
   "metadata": {},
   "outputs": [
    {
     "name": "stdout",
     "output_type": "stream",
     "text": [
      "Python Version: 3.8.8 (default, Apr 13 2021, 15:08:03) [MSC v.1916 64 bit (AMD64)] \n",
      "\n",
      "Numpy Version:  1.20.1\n"
     ]
    }
   ],
   "source": [
    "import sys \n",
    "import numpy as np\n",
    "import pandas as pd\n",
    "print(\"Python Version:\", sys.version, '\\n')\n",
    "print(\"Numpy Version: \", np.__version__)"
   ]
  },
  {
   "cell_type": "code",
   "execution_count": 11,
   "id": "1cbdb495",
   "metadata": {},
   "outputs": [],
   "source": [
    "#reading the excel file then convert it to csv file using pandas "
   ]
  },
  {
   "cell_type": "code",
   "execution_count": 23,
   "id": "1d822322",
   "metadata": {},
   "outputs": [
    {
     "name": "stdout",
     "output_type": "stream",
     "text": [
      "<class 'pandas.core.frame.DataFrame'>\n",
      "RangeIndex: 11522 entries, 0 to 11521\n",
      "Data columns (total 16 columns):\n",
      " #   Column         Non-Null Count  Dtype         \n",
      "---  ------         --------------  -----         \n",
      " 0   Code           11522 non-null  int64         \n",
      " 1   First Name     11522 non-null  object        \n",
      " 2   Last Name      11522 non-null  object        \n",
      " 3   Father Name    11522 non-null  object        \n",
      " 4   Mother Name    11522 non-null  object        \n",
      " 5   Gender         11522 non-null  object        \n",
      " 6   Nationality    11522 non-null  object        \n",
      " 7   Birth Date     11522 non-null  datetime64[ns]\n",
      " 8   Level          11522 non-null  object        \n",
      " 9   City           11522 non-null  object        \n",
      " 10  ID             11522 non-null  object        \n",
      " 11  Joining Day    11522 non-null  int64         \n",
      " 12  Joining Month  11522 non-null  int64         \n",
      " 13  Joining_Year   11522 non-null  int64         \n",
      " 14  Current_Class  11522 non-null  object        \n",
      " 15  Grade          2911 non-null   object        \n",
      "dtypes: datetime64[ns](1), int64(4), object(11)\n",
      "memory usage: 1.4+ MB\n"
     ]
    }
   ],
   "source": [
    "df = pd.read_excel('Students.xlsx')\n",
    "df.info()"
   ]
  },
  {
   "cell_type": "code",
   "execution_count": 24,
   "id": "6af4ddda",
   "metadata": {},
   "outputs": [
    {
     "data": {
      "text/html": [
       "<div>\n",
       "<style scoped>\n",
       "    .dataframe tbody tr th:only-of-type {\n",
       "        vertical-align: middle;\n",
       "    }\n",
       "\n",
       "    .dataframe tbody tr th {\n",
       "        vertical-align: top;\n",
       "    }\n",
       "\n",
       "    .dataframe thead th {\n",
       "        text-align: right;\n",
       "    }\n",
       "</style>\n",
       "<table border=\"1\" class=\"dataframe\">\n",
       "  <thead>\n",
       "    <tr style=\"text-align: right;\">\n",
       "      <th></th>\n",
       "      <th>Code</th>\n",
       "      <th>First Name</th>\n",
       "      <th>Last Name</th>\n",
       "      <th>Father Name</th>\n",
       "      <th>Mother Name</th>\n",
       "      <th>Gender</th>\n",
       "      <th>Nationality</th>\n",
       "      <th>Birth Date</th>\n",
       "      <th>Level</th>\n",
       "      <th>City</th>\n",
       "      <th>ID</th>\n",
       "      <th>Joining Day</th>\n",
       "      <th>Joining Month</th>\n",
       "      <th>Joining_Year</th>\n",
       "      <th>Current_Class</th>\n",
       "      <th>Grade</th>\n",
       "    </tr>\n",
       "  </thead>\n",
       "  <tbody>\n",
       "    <tr>\n",
       "      <th>0</th>\n",
       "      <td>66795</td>\n",
       "      <td>أمونة</td>\n",
       "      <td>ابوعون</td>\n",
       "      <td>عبد الرزاق</td>\n",
       "      <td>فاطمة</td>\n",
       "      <td>Female</td>\n",
       "      <td>سعودي</td>\n",
       "      <td>2009-08-03</td>\n",
       "      <td>Primary</td>\n",
       "      <td>ميسان</td>\n",
       "      <td>Najah 10</td>\n",
       "      <td>5</td>\n",
       "      <td>6</td>\n",
       "      <td>2019</td>\n",
       "      <td>خامس ابتدائي</td>\n",
       "      <td>NaN</td>\n",
       "    </tr>\n",
       "    <tr>\n",
       "      <th>1</th>\n",
       "      <td>66472</td>\n",
       "      <td>ابراهيم</td>\n",
       "      <td>جبري</td>\n",
       "      <td>محمد</td>\n",
       "      <td>مريم</td>\n",
       "      <td>Male</td>\n",
       "      <td>أردني</td>\n",
       "      <td>2007-06-14</td>\n",
       "      <td>Preparatory</td>\n",
       "      <td>العيص</td>\n",
       "      <td>Najah 22</td>\n",
       "      <td>14</td>\n",
       "      <td>12</td>\n",
       "      <td>2019</td>\n",
       "      <td>أول إعدادي</td>\n",
       "      <td>NaN</td>\n",
       "    </tr>\n",
       "    <tr>\n",
       "      <th>2</th>\n",
       "      <td>66591</td>\n",
       "      <td>عطا الله</td>\n",
       "      <td>عبد الله</td>\n",
       "      <td>صبحي</td>\n",
       "      <td>فاطمة</td>\n",
       "      <td>Male</td>\n",
       "      <td>سعودي</td>\n",
       "      <td>1999-02-28</td>\n",
       "      <td>High school</td>\n",
       "      <td>الرياض</td>\n",
       "      <td>Najah 41</td>\n",
       "      <td>20</td>\n",
       "      <td>7</td>\n",
       "      <td>2019</td>\n",
       "      <td>ثالث ثانوي</td>\n",
       "      <td>A</td>\n",
       "    </tr>\n",
       "    <tr>\n",
       "      <th>3</th>\n",
       "      <td>66473</td>\n",
       "      <td>رياض</td>\n",
       "      <td>شيخ</td>\n",
       "      <td>احمد</td>\n",
       "      <td>فطوم</td>\n",
       "      <td>Male</td>\n",
       "      <td>لبناني</td>\n",
       "      <td>2004-04-12</td>\n",
       "      <td>High school</td>\n",
       "      <td>ثار</td>\n",
       "      <td>Najah 30</td>\n",
       "      <td>19</td>\n",
       "      <td>7</td>\n",
       "      <td>2018</td>\n",
       "      <td>أول ثانوي</td>\n",
       "      <td>NaN</td>\n",
       "    </tr>\n",
       "    <tr>\n",
       "      <th>4</th>\n",
       "      <td>66365</td>\n",
       "      <td>تركية</td>\n",
       "      <td>كفا</td>\n",
       "      <td>صبحي</td>\n",
       "      <td>عيدة</td>\n",
       "      <td>Female</td>\n",
       "      <td>خليجي</td>\n",
       "      <td>2009-07-05</td>\n",
       "      <td>Primary</td>\n",
       "      <td>عرعر</td>\n",
       "      <td>Najah 08</td>\n",
       "      <td>21</td>\n",
       "      <td>2</td>\n",
       "      <td>2018</td>\n",
       "      <td>خامس ابتدائي</td>\n",
       "      <td>NaN</td>\n",
       "    </tr>\n",
       "  </tbody>\n",
       "</table>\n",
       "</div>"
      ],
      "text/plain": [
       "    Code First Name Last Name Father Name Mother Name  Gender Nationality  \\\n",
       "0  66795      أمونة    ابوعون  عبد الرزاق       فاطمة  Female       سعودي   \n",
       "1  66472    ابراهيم      جبري        محمد        مريم    Male       أردني   \n",
       "2  66591   عطا الله  عبد الله        صبحي       فاطمة    Male       سعودي   \n",
       "3  66473       رياض       شيخ        احمد        فطوم    Male      لبناني   \n",
       "4  66365      تركية       كفا        صبحي        عيدة  Female       خليجي   \n",
       "\n",
       "  Birth Date        Level    City        ID  Joining Day  Joining Month  \\\n",
       "0 2009-08-03      Primary   ميسان  Najah 10            5              6   \n",
       "1 2007-06-14  Preparatory   العيص  Najah 22           14             12   \n",
       "2 1999-02-28  High school  الرياض  Najah 41           20              7   \n",
       "3 2004-04-12  High school     ثار  Najah 30           19              7   \n",
       "4 2009-07-05      Primary    عرعر  Najah 08           21              2   \n",
       "\n",
       "   Joining_Year Current_Class Grade  \n",
       "0          2019  خامس ابتدائي   NaN  \n",
       "1          2019    أول إعدادي   NaN  \n",
       "2          2019    ثالث ثانوي     A  \n",
       "3          2018     أول ثانوي   NaN  \n",
       "4          2018  خامس ابتدائي   NaN  "
      ]
     },
     "execution_count": 24,
     "metadata": {},
     "output_type": "execute_result"
    }
   ],
   "source": [
    "df.head()"
   ]
  },
  {
   "cell_type": "code",
   "execution_count": 25,
   "id": "18087ce1",
   "metadata": {},
   "outputs": [
    {
     "data": {
      "text/plain": [
       "ثالث ثانوي      3602\n",
       "خامس ابتدائي     764\n",
       "ثالث إعدادي      744\n",
       "أول إعدادي       738\n",
       "أول ثانوي        734\n",
       "ثاني ثانوي       732\n",
       "رابع ابتدائي     722\n",
       "سادس ابتدائي     711\n",
       "أول ابتدائي      699\n",
       "ثالث ابتدائي     694\n",
       "تاني ابتدائي     693\n",
       "تاني إعدادي      689\n",
       "Name: Current_Class, dtype: int64"
      ]
     },
     "execution_count": 25,
     "metadata": {},
     "output_type": "execute_result"
    }
   ],
   "source": [
    "df.Current_Class.value_counts()"
   ]
  },
  {
   "cell_type": "code",
   "execution_count": 45,
   "id": "c9f3a12c",
   "metadata": {},
   "outputs": [],
   "source": [
    "\n",
    "df1 = df.loc[(df['Current_Class'] == 'ثالث ثانوي') & (df['Grade']== 'A')]\n"
   ]
  },
  {
   "cell_type": "code",
   "execution_count": 49,
   "id": "be8b281e",
   "metadata": {},
   "outputs": [
    {
     "data": {
      "text/html": [
       "<div>\n",
       "<style scoped>\n",
       "    .dataframe tbody tr th:only-of-type {\n",
       "        vertical-align: middle;\n",
       "    }\n",
       "\n",
       "    .dataframe tbody tr th {\n",
       "        vertical-align: top;\n",
       "    }\n",
       "\n",
       "    .dataframe thead th {\n",
       "        text-align: right;\n",
       "    }\n",
       "</style>\n",
       "<table border=\"1\" class=\"dataframe\">\n",
       "  <thead>\n",
       "    <tr style=\"text-align: right;\">\n",
       "      <th></th>\n",
       "      <th>Code</th>\n",
       "      <th>First Name</th>\n",
       "      <th>Last Name</th>\n",
       "      <th>Father Name</th>\n",
       "      <th>Mother Name</th>\n",
       "      <th>Gender</th>\n",
       "      <th>Nationality</th>\n",
       "      <th>Birth Date</th>\n",
       "      <th>Level</th>\n",
       "      <th>City</th>\n",
       "      <th>ID</th>\n",
       "      <th>Joining Day</th>\n",
       "      <th>Joining Month</th>\n",
       "      <th>Joining_Year</th>\n",
       "      <th>Current_Class</th>\n",
       "      <th>Grade</th>\n",
       "      <th>Expected_Graguaded</th>\n",
       "    </tr>\n",
       "  </thead>\n",
       "  <tbody>\n",
       "    <tr>\n",
       "      <th>2</th>\n",
       "      <td>66591</td>\n",
       "      <td>عطا الله</td>\n",
       "      <td>عبد الله</td>\n",
       "      <td>صبحي</td>\n",
       "      <td>فاطمة</td>\n",
       "      <td>Male</td>\n",
       "      <td>سعودي</td>\n",
       "      <td>1999-02-28</td>\n",
       "      <td>High school</td>\n",
       "      <td>الرياض</td>\n",
       "      <td>Najah 41</td>\n",
       "      <td>20</td>\n",
       "      <td>7</td>\n",
       "      <td>2019</td>\n",
       "      <td>ثالث ثانوي</td>\n",
       "      <td>A</td>\n",
       "      <td>3602</td>\n",
       "    </tr>\n",
       "    <tr>\n",
       "      <th>14</th>\n",
       "      <td>66814</td>\n",
       "      <td>عبدالرحمن</td>\n",
       "      <td>كذوبة</td>\n",
       "      <td>فؤاد</td>\n",
       "      <td>كرجية السلوم</td>\n",
       "      <td>Male</td>\n",
       "      <td>سعودي</td>\n",
       "      <td>2001-05-30</td>\n",
       "      <td>High school</td>\n",
       "      <td>الرياض</td>\n",
       "      <td>Najah 42</td>\n",
       "      <td>28</td>\n",
       "      <td>3</td>\n",
       "      <td>2019</td>\n",
       "      <td>ثالث ثانوي</td>\n",
       "      <td>A</td>\n",
       "      <td>3602</td>\n",
       "    </tr>\n",
       "    <tr>\n",
       "      <th>26</th>\n",
       "      <td>66805</td>\n",
       "      <td>خدوج</td>\n",
       "      <td>طحان</td>\n",
       "      <td>عبدالل</td>\n",
       "      <td>رضية</td>\n",
       "      <td>Female</td>\n",
       "      <td>لبناني</td>\n",
       "      <td>1999-02-02</td>\n",
       "      <td>High school</td>\n",
       "      <td>المندق</td>\n",
       "      <td>Najah 37</td>\n",
       "      <td>2</td>\n",
       "      <td>3</td>\n",
       "      <td>2018</td>\n",
       "      <td>ثالث ثانوي</td>\n",
       "      <td>A</td>\n",
       "      <td>3602</td>\n",
       "    </tr>\n",
       "    <tr>\n",
       "      <th>31</th>\n",
       "      <td>66650</td>\n",
       "      <td>مجيد</td>\n",
       "      <td>حمادة</td>\n",
       "      <td>وليد</td>\n",
       "      <td>كرجية السلوم</td>\n",
       "      <td>Male</td>\n",
       "      <td>أردني</td>\n",
       "      <td>1999-03-04</td>\n",
       "      <td>High school</td>\n",
       "      <td>الرياض</td>\n",
       "      <td>Najah 44</td>\n",
       "      <td>14</td>\n",
       "      <td>11</td>\n",
       "      <td>2019</td>\n",
       "      <td>ثالث ثانوي</td>\n",
       "      <td>A</td>\n",
       "      <td>3602</td>\n",
       "    </tr>\n",
       "    <tr>\n",
       "      <th>33</th>\n",
       "      <td>66934</td>\n",
       "      <td>وليد</td>\n",
       "      <td>حصرم</td>\n",
       "      <td>محمود</td>\n",
       "      <td>طوران</td>\n",
       "      <td>Male</td>\n",
       "      <td>جزائري</td>\n",
       "      <td>1998-08-22</td>\n",
       "      <td>High school</td>\n",
       "      <td>مكة المكرمة</td>\n",
       "      <td>Najah 34</td>\n",
       "      <td>9</td>\n",
       "      <td>3</td>\n",
       "      <td>2019</td>\n",
       "      <td>ثالث ثانوي</td>\n",
       "      <td>A</td>\n",
       "      <td>3602</td>\n",
       "    </tr>\n",
       "    <tr>\n",
       "      <th>...</th>\n",
       "      <td>...</td>\n",
       "      <td>...</td>\n",
       "      <td>...</td>\n",
       "      <td>...</td>\n",
       "      <td>...</td>\n",
       "      <td>...</td>\n",
       "      <td>...</td>\n",
       "      <td>...</td>\n",
       "      <td>...</td>\n",
       "      <td>...</td>\n",
       "      <td>...</td>\n",
       "      <td>...</td>\n",
       "      <td>...</td>\n",
       "      <td>...</td>\n",
       "      <td>...</td>\n",
       "      <td>...</td>\n",
       "      <td>...</td>\n",
       "    </tr>\n",
       "    <tr>\n",
       "      <th>4147</th>\n",
       "      <td>70473</td>\n",
       "      <td>أحمد</td>\n",
       "      <td>شمير</td>\n",
       "      <td>اسحاق</td>\n",
       "      <td>نجاح</td>\n",
       "      <td>Male</td>\n",
       "      <td>أردني</td>\n",
       "      <td>2000-02-19</td>\n",
       "      <td>High school</td>\n",
       "      <td>حقل</td>\n",
       "      <td>Najah 49</td>\n",
       "      <td>5</td>\n",
       "      <td>7</td>\n",
       "      <td>2019</td>\n",
       "      <td>ثالث ثانوي</td>\n",
       "      <td>A</td>\n",
       "      <td>3602</td>\n",
       "    </tr>\n",
       "    <tr>\n",
       "      <th>11402</th>\n",
       "      <td>77728</td>\n",
       "      <td>محمد</td>\n",
       "      <td>الشوخ</td>\n",
       "      <td>احمد</td>\n",
       "      <td>نجمة</td>\n",
       "      <td>Male</td>\n",
       "      <td>سعودي</td>\n",
       "      <td>2001-12-15</td>\n",
       "      <td>High school</td>\n",
       "      <td>مكة المكرمة</td>\n",
       "      <td>Najah 34</td>\n",
       "      <td>26</td>\n",
       "      <td>1</td>\n",
       "      <td>2019</td>\n",
       "      <td>ثالث ثانوي</td>\n",
       "      <td>A</td>\n",
       "      <td>3602</td>\n",
       "    </tr>\n",
       "    <tr>\n",
       "      <th>11407</th>\n",
       "      <td>77733</td>\n",
       "      <td>شكرية</td>\n",
       "      <td>العزو</td>\n",
       "      <td>محمد</td>\n",
       "      <td>امنة</td>\n",
       "      <td>Female</td>\n",
       "      <td>سعودي</td>\n",
       "      <td>2001-06-22</td>\n",
       "      <td>High school</td>\n",
       "      <td>ابو عريش</td>\n",
       "      <td>Najah 35</td>\n",
       "      <td>22</td>\n",
       "      <td>4</td>\n",
       "      <td>2019</td>\n",
       "      <td>ثالث ثانوي</td>\n",
       "      <td>A</td>\n",
       "      <td>3602</td>\n",
       "    </tr>\n",
       "    <tr>\n",
       "      <th>11410</th>\n",
       "      <td>77736</td>\n",
       "      <td>ابراهيم</td>\n",
       "      <td>الحميد</td>\n",
       "      <td>حسين</td>\n",
       "      <td>وضحة</td>\n",
       "      <td>Male</td>\n",
       "      <td>مصري</td>\n",
       "      <td>1998-07-29</td>\n",
       "      <td>High school</td>\n",
       "      <td>رجال المع</td>\n",
       "      <td>Najah 32</td>\n",
       "      <td>21</td>\n",
       "      <td>2</td>\n",
       "      <td>2019</td>\n",
       "      <td>ثالث ثانوي</td>\n",
       "      <td>A</td>\n",
       "      <td>3602</td>\n",
       "    </tr>\n",
       "    <tr>\n",
       "      <th>11412</th>\n",
       "      <td>77738</td>\n",
       "      <td>ماجدة</td>\n",
       "      <td>الخبي</td>\n",
       "      <td>حسن عطية</td>\n",
       "      <td>خديجة</td>\n",
       "      <td>Female</td>\n",
       "      <td>مصري</td>\n",
       "      <td>2001-03-05</td>\n",
       "      <td>High school</td>\n",
       "      <td>بدر</td>\n",
       "      <td>Najah 29</td>\n",
       "      <td>28</td>\n",
       "      <td>8</td>\n",
       "      <td>2018</td>\n",
       "      <td>ثالث ثانوي</td>\n",
       "      <td>A</td>\n",
       "      <td>3602</td>\n",
       "    </tr>\n",
       "  </tbody>\n",
       "</table>\n",
       "<p>569 rows × 17 columns</p>\n",
       "</div>"
      ],
      "text/plain": [
       "        Code First Name Last Name Father Name   Mother Name  Gender  \\\n",
       "2      66591   عطا الله  عبد الله        صبحي         فاطمة    Male   \n",
       "14     66814  عبدالرحمن     كذوبة        فؤاد  كرجية السلوم    Male   \n",
       "26     66805       خدوج      طحان      عبدالل          رضية  Female   \n",
       "31     66650       مجيد     حمادة        وليد  كرجية السلوم    Male   \n",
       "33     66934       وليد      حصرم       محمود         طوران    Male   \n",
       "...      ...        ...       ...         ...           ...     ...   \n",
       "4147   70473       أحمد      شمير       اسحاق          نجاح    Male   \n",
       "11402  77728       محمد     الشوخ        احمد          نجمة    Male   \n",
       "11407  77733      شكرية     العزو        محمد          امنة  Female   \n",
       "11410  77736    ابراهيم    الحميد        حسين          وضحة    Male   \n",
       "11412  77738      ماجدة     الخبي    حسن عطية         خديجة  Female   \n",
       "\n",
       "      Nationality Birth Date        Level         City        ID  Joining Day  \\\n",
       "2           سعودي 1999-02-28  High school       الرياض  Najah 41           20   \n",
       "14          سعودي 2001-05-30  High school       الرياض  Najah 42           28   \n",
       "26         لبناني 1999-02-02  High school       المندق  Najah 37            2   \n",
       "31          أردني 1999-03-04  High school       الرياض  Najah 44           14   \n",
       "33         جزائري 1998-08-22  High school  مكة المكرمة  Najah 34            9   \n",
       "...           ...        ...          ...          ...       ...          ...   \n",
       "4147        أردني 2000-02-19  High school          حقل  Najah 49            5   \n",
       "11402       سعودي 2001-12-15  High school  مكة المكرمة  Najah 34           26   \n",
       "11407       سعودي 2001-06-22  High school     ابو عريش  Najah 35           22   \n",
       "11410        مصري 1998-07-29  High school    رجال المع  Najah 32           21   \n",
       "11412        مصري 2001-03-05  High school          بدر  Najah 29           28   \n",
       "\n",
       "       Joining Month  Joining_Year Current_Class Grade  Expected_Graguaded  \n",
       "2                  7          2019    ثالث ثانوي     A                3602  \n",
       "14                 3          2019    ثالث ثانوي     A                3602  \n",
       "26                 3          2018    ثالث ثانوي     A                3602  \n",
       "31                11          2019    ثالث ثانوي     A                3602  \n",
       "33                 3          2019    ثالث ثانوي     A                3602  \n",
       "...              ...           ...           ...   ...                 ...  \n",
       "4147               7          2019    ثالث ثانوي     A                3602  \n",
       "11402              1          2019    ثالث ثانوي     A                3602  \n",
       "11407              4          2019    ثالث ثانوي     A                3602  \n",
       "11410              2          2019    ثالث ثانوي     A                3602  \n",
       "11412              8          2018    ثالث ثانوي     A                3602  \n",
       "\n",
       "[569 rows x 17 columns]"
      ]
     },
     "execution_count": 49,
     "metadata": {},
     "output_type": "execute_result"
    }
   ],
   "source": [
    "df1.head(600)\n"
   ]
  },
  {
   "cell_type": "code",
   "execution_count": 51,
   "id": "83850cfa",
   "metadata": {},
   "outputs": [
    {
     "data": {
      "text/plain": [
       "ثالث ثانوي    569\n",
       "Name: Current_Class, dtype: int64"
      ]
     },
     "execution_count": 51,
     "metadata": {},
     "output_type": "execute_result"
    }
   ],
   "source": [
    "df1.Current_Class.value_counts()"
   ]
  },
  {
   "cell_type": "code",
   "execution_count": 50,
   "id": "af1041c9",
   "metadata": {},
   "outputs": [
    {
     "data": {
      "text/plain": [
       "2019    5747\n",
       "2018    4002\n",
       "2017    1379\n",
       "2016     315\n",
       "2015      60\n",
       "2020      19\n",
       "Name: Joining_Year, dtype: int64"
      ]
     },
     "execution_count": 50,
     "metadata": {},
     "output_type": "execute_result"
    }
   ],
   "source": [
    "df.Joining_Year.value_counts()"
   ]
  },
  {
   "cell_type": "markdown",
   "id": "c14b2bb6",
   "metadata": {},
   "source": [
    "# LinearRegression"
   ]
  },
  {
   "cell_type": "code",
   "execution_count": 52,
   "id": "f7f38cda",
   "metadata": {},
   "outputs": [],
   "source": [
    "import statsmodels.api as sm\n",
    "import statsmodels.formula.api as smf\n",
    "import patsy\n",
    "import seaborn as sns\n",
    "import matplotlib.pyplot as plt\n",
    "from sklearn.linear_model import LinearRegression\n",
    "from sklearn.linear_model import RidgeCV\n",
    "%matplotlib inline"
   ]
  },
  {
   "cell_type": "code",
   "execution_count": 53,
   "id": "96a6c8ea",
   "metadata": {},
   "outputs": [
    {
     "data": {
      "text/plain": [
       "Index(['Code', 'First Name', 'Last Name', 'Father Name', 'Mother Name',\n",
       "       'Gender', 'Nationality', 'Birth Date', 'Level', 'City', 'ID',\n",
       "       'Joining Day', 'Joining Month', 'Joining_Year', 'Current_Class',\n",
       "       'Grade', 'Expected_Graguaded'],\n",
       "      dtype='object')"
      ]
     },
     "execution_count": 53,
     "metadata": {},
     "output_type": "execute_result"
    }
   ],
   "source": [
    "df1.columns = df.columns.map(str.strip)\n",
    "df1.columns"
   ]
  },
  {
   "cell_type": "code",
   "execution_count": 54,
   "id": "09edb81e",
   "metadata": {},
   "outputs": [
    {
     "data": {
      "text/plain": [
       "(569, 17)"
      ]
     },
     "execution_count": 54,
     "metadata": {},
     "output_type": "execute_result"
    }
   ],
   "source": [
    "df1.shape"
   ]
  },
  {
   "cell_type": "code",
   "execution_count": 55,
   "id": "736db9c0",
   "metadata": {},
   "outputs": [
    {
     "data": {
      "text/html": [
       "<div>\n",
       "<style scoped>\n",
       "    .dataframe tbody tr th:only-of-type {\n",
       "        vertical-align: middle;\n",
       "    }\n",
       "\n",
       "    .dataframe tbody tr th {\n",
       "        vertical-align: top;\n",
       "    }\n",
       "\n",
       "    .dataframe thead th {\n",
       "        text-align: right;\n",
       "    }\n",
       "</style>\n",
       "<table border=\"1\" class=\"dataframe\">\n",
       "  <thead>\n",
       "    <tr style=\"text-align: right;\">\n",
       "      <th></th>\n",
       "      <th>Code</th>\n",
       "      <th>Joining Day</th>\n",
       "      <th>Joining Month</th>\n",
       "      <th>Joining_Year</th>\n",
       "      <th>Expected_Graguaded</th>\n",
       "    </tr>\n",
       "  </thead>\n",
       "  <tbody>\n",
       "    <tr>\n",
       "      <th>Code</th>\n",
       "      <td>1.000000</td>\n",
       "      <td>-0.014003</td>\n",
       "      <td>-0.069581</td>\n",
       "      <td>-0.007575</td>\n",
       "      <td>NaN</td>\n",
       "    </tr>\n",
       "    <tr>\n",
       "      <th>Joining Day</th>\n",
       "      <td>-0.014003</td>\n",
       "      <td>1.000000</td>\n",
       "      <td>0.026665</td>\n",
       "      <td>-0.048392</td>\n",
       "      <td>NaN</td>\n",
       "    </tr>\n",
       "    <tr>\n",
       "      <th>Joining Month</th>\n",
       "      <td>-0.069581</td>\n",
       "      <td>0.026665</td>\n",
       "      <td>1.000000</td>\n",
       "      <td>-0.047466</td>\n",
       "      <td>NaN</td>\n",
       "    </tr>\n",
       "    <tr>\n",
       "      <th>Joining_Year</th>\n",
       "      <td>-0.007575</td>\n",
       "      <td>-0.048392</td>\n",
       "      <td>-0.047466</td>\n",
       "      <td>1.000000</td>\n",
       "      <td>NaN</td>\n",
       "    </tr>\n",
       "    <tr>\n",
       "      <th>Expected_Graguaded</th>\n",
       "      <td>NaN</td>\n",
       "      <td>NaN</td>\n",
       "      <td>NaN</td>\n",
       "      <td>NaN</td>\n",
       "      <td>NaN</td>\n",
       "    </tr>\n",
       "  </tbody>\n",
       "</table>\n",
       "</div>"
      ],
      "text/plain": [
       "                        Code  Joining Day  Joining Month  Joining_Year  \\\n",
       "Code                1.000000    -0.014003      -0.069581     -0.007575   \n",
       "Joining Day        -0.014003     1.000000       0.026665     -0.048392   \n",
       "Joining Month      -0.069581     0.026665       1.000000     -0.047466   \n",
       "Joining_Year       -0.007575    -0.048392      -0.047466      1.000000   \n",
       "Expected_Graguaded       NaN          NaN            NaN           NaN   \n",
       "\n",
       "                    Expected_Graguaded  \n",
       "Code                               NaN  \n",
       "Joining Day                        NaN  \n",
       "Joining Month                      NaN  \n",
       "Joining_Year                       NaN  \n",
       "Expected_Graguaded                 NaN  "
      ]
     },
     "execution_count": 55,
     "metadata": {},
     "output_type": "execute_result"
    }
   ],
   "source": [
    "df1.corr()"
   ]
  },
  {
   "cell_type": "markdown",
   "id": "fa41935e",
   "metadata": {},
   "source": [
    "# Score for Expected_Graguaded"
   ]
  },
  {
   "cell_type": "code",
   "execution_count": 63,
   "id": "f6cfb618",
   "metadata": {},
   "outputs": [
    {
     "data": {
      "text/plain": [
       "1.0"
      ]
     },
     "execution_count": 63,
     "metadata": {},
     "output_type": "execute_result"
    }
   ],
   "source": [
    "lr1 = LinearRegression()\n",
    "X = df1[['Joining_Year']]\n",
    "y = df1['Expected_Graguaded']\n",
    "lr1.fit(X, y)\n",
    "lr1.score(X, y)"
   ]
  },
  {
   "cell_type": "markdown",
   "id": "d44ca27b",
   "metadata": {},
   "source": [
    "# Validation Workflow and Utilities"
   ]
  },
  {
   "cell_type": "code",
   "execution_count": 68,
   "id": "ced10894",
   "metadata": {},
   "outputs": [],
   "source": [
    "from sklearn.model_selection import train_test_split\n",
    "from sklearn.linear_model import LinearRegression, Ridge #ordinary linear regression + w/ ridge regularization\n",
    "from sklearn.preprocessing import StandardScaler, PolynomialFeatures\n",
    "\n",
    "X3 = df1[['Joining_Year']]\n",
    "y3 = df1['Expected_Graguaded']\n",
    "\n",
    "# hold out 20% of the data for final testing\n",
    "X3, X3_test, y3, y3_test = train_test_split(X3, y3, test_size=.2, random_state=10)"
   ]
  },
  {
   "cell_type": "code",
   "execution_count": 69,
   "id": "6fffe385",
   "metadata": {},
   "outputs": [],
   "source": [
    "X3_train, X3_val, y3_train, y3_val = train_test_split(X3, y3, test_size=.25, random_state=3)"
   ]
  },
  {
   "cell_type": "code",
   "execution_count": 70,
   "id": "e39226b3",
   "metadata": {},
   "outputs": [],
   "source": [
    "lm = LinearRegression()\n",
    "\n",
    "\n",
    "scaler = StandardScaler()\n",
    "\n",
    "X3_train_scaled = scaler.fit_transform(X3_train.values)\n",
    "X3_val_scaled = scaler.transform(X3_val.values)\n",
    "X3_test_scaled = scaler.transform(X3_test.values)\n",
    "\n",
    "lm_reg = Ridge(alpha=1)\n",
    "\n",
    "poly = PolynomialFeatures(degree=2) \n",
    "\n",
    "X3_train_poly = poly.fit_transform(X3_train.values)\n",
    "X3_val_poly = poly.transform(X3_val.values)\n",
    "X3_test_poly = poly.transform(X3_test.values)\n",
    "\n",
    "lm_poly = LinearRegression()"
   ]
  },
  {
   "cell_type": "code",
   "execution_count": 71,
   "id": "eefba917",
   "metadata": {},
   "outputs": [
    {
     "name": "stdout",
     "output_type": "stream",
     "text": [
      "Linear Regression val R^2: 1.000\n",
      "Ridge Regression val R^2: 1.000\n",
      "Degree 2 polynomial regression val R^2: 1.000\n"
     ]
    }
   ],
   "source": [
    "lm.fit(X3_train, y3_train)\n",
    "print(f'Linear Regression val R^2: {lm.score(X3_val, y3_val):.3f}')\n",
    "\n",
    "lm_reg.fit(X3_train_scaled, y3_train)\n",
    "print(f'Ridge Regression val R^2: {lm_reg.score(X3_val_scaled, y3_val):.3f}')\n",
    "\n",
    "lm_poly.fit(X3_train_poly, y3_train)\n",
    "print(f'Degree 2 polynomial regression val R^2: {lm_poly.score(X3_val_poly, y3_val):.3f}')"
   ]
  },
  {
   "cell_type": "markdown",
   "id": "0d5a6601",
   "metadata": {},
   "source": [
    "# Supervised Leraining"
   ]
  },
  {
   "cell_type": "code",
   "execution_count": 72,
   "id": "56a5cb4f",
   "metadata": {},
   "outputs": [],
   "source": [
    "import matplotlib.cm as cm\n",
    "import random\n",
    "from sklearn.tree import DecisionTreeClassifier\n",
    "from sklearn.ensemble import RandomForestClassifier\n",
    "from sklearn.linear_model import LogisticRegression"
   ]
  },
  {
   "cell_type": "code",
   "execution_count": 73,
   "id": "ef9c85d5",
   "metadata": {},
   "outputs": [],
   "source": [
    "from sklearn.model_selection import train_test_split\n",
    "\n",
    "def quick_test(model, X, y):\n",
    "    xtrain, xtest, ytrain, ytest = train_test_split(X, y, test_size=0.3)\n",
    "    model.fit(xtrain, ytrain)\n",
    "    return model.score(xtest, ytest)\n",
    "\n",
    "def quick_test_afew_times(model, X, y, n=10):\n",
    "    return np.mean([quick_test(model, X, y) for j in range(n)])"
   ]
  },
  {
   "cell_type": "code",
   "execution_count": 74,
   "id": "5f36318e",
   "metadata": {},
   "outputs": [
    {
     "ename": "ValueError",
     "evalue": "This solver needs samples of at least 2 classes in the data, but the data contains only one class: 3602",
     "output_type": "error",
     "traceback": [
      "\u001b[1;31m---------------------------------------------------------------------------\u001b[0m",
      "\u001b[1;31mValueError\u001b[0m                                Traceback (most recent call last)",
      "\u001b[1;32m<ipython-input-74-b957b7dba378>\u001b[0m in \u001b[0;36m<module>\u001b[1;34m\u001b[0m\n\u001b[0;32m      1\u001b[0m \u001b[0mlogreg\u001b[0m \u001b[1;33m=\u001b[0m \u001b[0mLogisticRegression\u001b[0m\u001b[1;33m(\u001b[0m\u001b[0mpenalty\u001b[0m\u001b[1;33m=\u001b[0m\u001b[1;34m'none'\u001b[0m\u001b[1;33m)\u001b[0m\u001b[1;33m\u001b[0m\u001b[1;33m\u001b[0m\u001b[0m\n\u001b[1;32m----> 2\u001b[1;33m \u001b[0mquick_test_afew_times\u001b[0m\u001b[1;33m(\u001b[0m\u001b[0mlogreg\u001b[0m\u001b[1;33m,\u001b[0m \u001b[0mX\u001b[0m\u001b[1;33m,\u001b[0m \u001b[0my\u001b[0m\u001b[1;33m)\u001b[0m\u001b[1;33m\u001b[0m\u001b[1;33m\u001b[0m\u001b[0m\n\u001b[0m",
      "\u001b[1;32m<ipython-input-73-fe8b48d5bf5d>\u001b[0m in \u001b[0;36mquick_test_afew_times\u001b[1;34m(model, X, y, n)\u001b[0m\n\u001b[0;32m      7\u001b[0m \u001b[1;33m\u001b[0m\u001b[0m\n\u001b[0;32m      8\u001b[0m \u001b[1;32mdef\u001b[0m \u001b[0mquick_test_afew_times\u001b[0m\u001b[1;33m(\u001b[0m\u001b[0mmodel\u001b[0m\u001b[1;33m,\u001b[0m \u001b[0mX\u001b[0m\u001b[1;33m,\u001b[0m \u001b[0my\u001b[0m\u001b[1;33m,\u001b[0m \u001b[0mn\u001b[0m\u001b[1;33m=\u001b[0m\u001b[1;36m10\u001b[0m\u001b[1;33m)\u001b[0m\u001b[1;33m:\u001b[0m\u001b[1;33m\u001b[0m\u001b[1;33m\u001b[0m\u001b[0m\n\u001b[1;32m----> 9\u001b[1;33m     \u001b[1;32mreturn\u001b[0m \u001b[0mnp\u001b[0m\u001b[1;33m.\u001b[0m\u001b[0mmean\u001b[0m\u001b[1;33m(\u001b[0m\u001b[1;33m[\u001b[0m\u001b[0mquick_test\u001b[0m\u001b[1;33m(\u001b[0m\u001b[0mmodel\u001b[0m\u001b[1;33m,\u001b[0m \u001b[0mX\u001b[0m\u001b[1;33m,\u001b[0m \u001b[0my\u001b[0m\u001b[1;33m)\u001b[0m \u001b[1;32mfor\u001b[0m \u001b[0mj\u001b[0m \u001b[1;32min\u001b[0m \u001b[0mrange\u001b[0m\u001b[1;33m(\u001b[0m\u001b[0mn\u001b[0m\u001b[1;33m)\u001b[0m\u001b[1;33m]\u001b[0m\u001b[1;33m)\u001b[0m\u001b[1;33m\u001b[0m\u001b[1;33m\u001b[0m\u001b[0m\n\u001b[0m",
      "\u001b[1;32m<ipython-input-73-fe8b48d5bf5d>\u001b[0m in \u001b[0;36m<listcomp>\u001b[1;34m(.0)\u001b[0m\n\u001b[0;32m      7\u001b[0m \u001b[1;33m\u001b[0m\u001b[0m\n\u001b[0;32m      8\u001b[0m \u001b[1;32mdef\u001b[0m \u001b[0mquick_test_afew_times\u001b[0m\u001b[1;33m(\u001b[0m\u001b[0mmodel\u001b[0m\u001b[1;33m,\u001b[0m \u001b[0mX\u001b[0m\u001b[1;33m,\u001b[0m \u001b[0my\u001b[0m\u001b[1;33m,\u001b[0m \u001b[0mn\u001b[0m\u001b[1;33m=\u001b[0m\u001b[1;36m10\u001b[0m\u001b[1;33m)\u001b[0m\u001b[1;33m:\u001b[0m\u001b[1;33m\u001b[0m\u001b[1;33m\u001b[0m\u001b[0m\n\u001b[1;32m----> 9\u001b[1;33m     \u001b[1;32mreturn\u001b[0m \u001b[0mnp\u001b[0m\u001b[1;33m.\u001b[0m\u001b[0mmean\u001b[0m\u001b[1;33m(\u001b[0m\u001b[1;33m[\u001b[0m\u001b[0mquick_test\u001b[0m\u001b[1;33m(\u001b[0m\u001b[0mmodel\u001b[0m\u001b[1;33m,\u001b[0m \u001b[0mX\u001b[0m\u001b[1;33m,\u001b[0m \u001b[0my\u001b[0m\u001b[1;33m)\u001b[0m \u001b[1;32mfor\u001b[0m \u001b[0mj\u001b[0m \u001b[1;32min\u001b[0m \u001b[0mrange\u001b[0m\u001b[1;33m(\u001b[0m\u001b[0mn\u001b[0m\u001b[1;33m)\u001b[0m\u001b[1;33m]\u001b[0m\u001b[1;33m)\u001b[0m\u001b[1;33m\u001b[0m\u001b[1;33m\u001b[0m\u001b[0m\n\u001b[0m",
      "\u001b[1;32m<ipython-input-73-fe8b48d5bf5d>\u001b[0m in \u001b[0;36mquick_test\u001b[1;34m(model, X, y)\u001b[0m\n\u001b[0;32m      3\u001b[0m \u001b[1;32mdef\u001b[0m \u001b[0mquick_test\u001b[0m\u001b[1;33m(\u001b[0m\u001b[0mmodel\u001b[0m\u001b[1;33m,\u001b[0m \u001b[0mX\u001b[0m\u001b[1;33m,\u001b[0m \u001b[0my\u001b[0m\u001b[1;33m)\u001b[0m\u001b[1;33m:\u001b[0m\u001b[1;33m\u001b[0m\u001b[1;33m\u001b[0m\u001b[0m\n\u001b[0;32m      4\u001b[0m     \u001b[0mxtrain\u001b[0m\u001b[1;33m,\u001b[0m \u001b[0mxtest\u001b[0m\u001b[1;33m,\u001b[0m \u001b[0mytrain\u001b[0m\u001b[1;33m,\u001b[0m \u001b[0mytest\u001b[0m \u001b[1;33m=\u001b[0m \u001b[0mtrain_test_split\u001b[0m\u001b[1;33m(\u001b[0m\u001b[0mX\u001b[0m\u001b[1;33m,\u001b[0m \u001b[0my\u001b[0m\u001b[1;33m,\u001b[0m \u001b[0mtest_size\u001b[0m\u001b[1;33m=\u001b[0m\u001b[1;36m0.3\u001b[0m\u001b[1;33m)\u001b[0m\u001b[1;33m\u001b[0m\u001b[1;33m\u001b[0m\u001b[0m\n\u001b[1;32m----> 5\u001b[1;33m     \u001b[0mmodel\u001b[0m\u001b[1;33m.\u001b[0m\u001b[0mfit\u001b[0m\u001b[1;33m(\u001b[0m\u001b[0mxtrain\u001b[0m\u001b[1;33m,\u001b[0m \u001b[0mytrain\u001b[0m\u001b[1;33m)\u001b[0m\u001b[1;33m\u001b[0m\u001b[1;33m\u001b[0m\u001b[0m\n\u001b[0m\u001b[0;32m      6\u001b[0m     \u001b[1;32mreturn\u001b[0m \u001b[0mmodel\u001b[0m\u001b[1;33m.\u001b[0m\u001b[0mscore\u001b[0m\u001b[1;33m(\u001b[0m\u001b[0mxtest\u001b[0m\u001b[1;33m,\u001b[0m \u001b[0mytest\u001b[0m\u001b[1;33m)\u001b[0m\u001b[1;33m\u001b[0m\u001b[1;33m\u001b[0m\u001b[0m\n\u001b[0;32m      7\u001b[0m \u001b[1;33m\u001b[0m\u001b[0m\n",
      "\u001b[1;32m~\\anaconda3\\lib\\site-packages\\sklearn\\linear_model\\_logistic.py\u001b[0m in \u001b[0;36mfit\u001b[1;34m(self, X, y, sample_weight)\u001b[0m\n\u001b[0;32m   1372\u001b[0m         \u001b[0mclasses_\u001b[0m \u001b[1;33m=\u001b[0m \u001b[0mself\u001b[0m\u001b[1;33m.\u001b[0m\u001b[0mclasses_\u001b[0m\u001b[1;33m\u001b[0m\u001b[1;33m\u001b[0m\u001b[0m\n\u001b[0;32m   1373\u001b[0m         \u001b[1;32mif\u001b[0m \u001b[0mn_classes\u001b[0m \u001b[1;33m<\u001b[0m \u001b[1;36m2\u001b[0m\u001b[1;33m:\u001b[0m\u001b[1;33m\u001b[0m\u001b[1;33m\u001b[0m\u001b[0m\n\u001b[1;32m-> 1374\u001b[1;33m             raise ValueError(\"This solver needs samples of at least 2 classes\"\n\u001b[0m\u001b[0;32m   1375\u001b[0m                              \u001b[1;34m\" in the data, but the data contains only one\"\u001b[0m\u001b[1;33m\u001b[0m\u001b[1;33m\u001b[0m\u001b[0m\n\u001b[0;32m   1376\u001b[0m                              \" class: %r\" % classes_[0])\n",
      "\u001b[1;31mValueError\u001b[0m: This solver needs samples of at least 2 classes in the data, but the data contains only one class: 3602"
     ]
    }
   ],
   "source": [
    "logreg = LogisticRegression(penalty='none')\n",
    "quick_test_afew_times(logreg, X, y)"
   ]
  },
  {
   "cell_type": "code",
   "execution_count": 75,
   "id": "aac734b5",
   "metadata": {},
   "outputs": [
    {
     "data": {
      "text/plain": [
       "1.0"
      ]
     },
     "execution_count": 75,
     "metadata": {},
     "output_type": "execute_result"
    }
   ],
   "source": [
    "decisiontree = DecisionTreeClassifier(max_depth=4)\n",
    "quick_test_afew_times(decisiontree, X, y)"
   ]
  },
  {
   "cell_type": "code",
   "execution_count": 76,
   "id": "22e2d8a7",
   "metadata": {},
   "outputs": [
    {
     "data": {
      "text/plain": [
       "1.0"
      ]
     },
     "execution_count": 76,
     "metadata": {},
     "output_type": "execute_result"
    }
   ],
   "source": [
    "randomforest = RandomForestClassifier(n_estimators=100)\n",
    "quick_test_afew_times(randomforest, X, y)"
   ]
  },
  {
   "cell_type": "markdown",
   "id": "f23a3b5f",
   "metadata": {},
   "source": [
    "# MatplotLib & Seaborn"
   ]
  },
  {
   "cell_type": "code",
   "execution_count": 78,
   "id": "1a8a4a74",
   "metadata": {},
   "outputs": [],
   "source": [
    "\n",
    "import os\n",
    "import numpy\n",
    "import matplotlib\n",
    "\n",
    "import scipy\n",
    "import csv\n",
    "from matplotlib import pyplot\n",
    "import seaborn as sns\n",
    "\n",
    "import matplotlib.pyplot as plt\n"
   ]
  },
  {
   "cell_type": "code",
   "execution_count": 80,
   "id": "0275fb45",
   "metadata": {},
   "outputs": [],
   "source": [
    "data = df"
   ]
  },
  {
   "cell_type": "code",
   "execution_count": 83,
   "id": "09f92767",
   "metadata": {},
   "outputs": [
    {
     "data": {
      "text/plain": [
       "Text(0.5, 1.0, 'male rate per year')"
      ]
     },
     "execution_count": 83,
     "metadata": {},
     "output_type": "execute_result"
    },
    {
     "data": {
      "image/png": "[encoded data removed]",
      "text/plain": [
       "<Figure size 1296x360 with 2 Axes>"
      ]
     },
     "metadata": {
      "needs_background": "light"
     },
     "output_type": "display_data"
    }
   ],
   "source": [
    "female=data[data['Gender']=='Female'].groupby(['Joining_Year']).size().reset_index(name='count')\n",
    "male=data[data['Gender']=='Male'].groupby(['Joining_Year']).size().reset_index(name='count')\n",
    "fig, ax = plt.subplots(nrows=1, ncols=2, figsize=(18, 5))\n",
    "xf=female['Joining_Year']\n",
    "yf=female['count']\n",
    "xm=male['Joining_Year']\n",
    "ym=male['count']\n",
    "ax[0].plot(xf,yf,color=\"red\",linewidth=6)\n",
    "ax[0].set_title(\"female rate per year\")\n",
    "ax[1].plot(xm,ym,linewidth=6)\n",
    "ax[1].set_title(\"male rate per year\")"
   ]
  },
  {
   "cell_type": "code",
   "execution_count": 85,
   "id": "affe665c",
   "metadata": {},
   "outputs": [
    {
     "data": {
      "text/plain": [
       "Text(0.5, 1.0, 'Graduate')"
      ]
     },
     "execution_count": 85,
     "metadata": {},
     "output_type": "execute_result"
    },
    {
     "data": {
      "image/png": "[encoded data removed]",
      "text/plain": [
       "<Figure size 1296x360 with 3 Axes>"
      ]
     },
     "metadata": {
      "needs_background": "light"
     },
     "output_type": "display_data"
    }
   ],
   "source": [
    "Graduate=data[data['Level']=='High school'].groupby(['Joining_Year']).size().reset_index(name='count')\n",
    "Primary=data[data['Level']=='Primary'].groupby(['Joining_Year']).size().reset_index(name='count')\n",
    "Prep=data[data['Level']=='Preparatory'].groupby(['Joining_Year']).size().reset_index(name='count')\n",
    "fig, ax = plt.subplots(nrows=1, ncols=3, figsize=(18, 5))\n",
    "xP=Primary['Joining_Year']\n",
    "yP=Primary['count']\n",
    "xG=Graduate['Joining_Year']\n",
    "yG=Graduate['count']\n",
    "xpr=Prep['Joining_Year']\n",
    "ypr=Prep['count']\n",
    "\n",
    "ax[1].plot(xP,yP,color=\"red\",linewidth=6)\n",
    "ax[1].set_title(\"Primary\")\n",
    "ax[0].plot(xpr,ypr,linewidth=6)\n",
    "ax[0].set_title(\"Preparatory\")\n",
    "ax[2].plot(xG,yG,color=\"green\",linewidth=6)\n",
    "ax[2].set_title(\"Graduate\")"
   ]
  }
 ],
 "metadata": {
  "kernelspec": {
   "display_name": "Python 3",
   "language": "python",
   "name": "python3"
  },
  "language_info": {
   "codemirror_mode": {
    "name": "ipython",
    "version": 3
   },
   "file_extension": ".py",
   "mimetype": "text/x-python",
   "name": "python",
   "nbconvert_exporter": "python",
   "pygments_lexer": "ipython3",
   "version": "3.8.8"
  }
 },
 "nbformat": 4,
 "nbformat_minor": 5
}
